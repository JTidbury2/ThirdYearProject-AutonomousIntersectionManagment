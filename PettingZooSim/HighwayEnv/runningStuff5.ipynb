{
 "cells": [
  {
   "cell_type": "code",
   "execution_count": 2,
   "metadata": {},
   "outputs": [
    {
     "name": "stdout",
     "output_type": "stream",
     "text": [
      "Requirement already satisfied: numpy in c:\\users\\jimmy\\onedrive\\documents\\uni\\3rd year\\project\\finalsimulation\\.venv\\lib\\site-packages (1.26.4)\n",
      "Requirement already satisfied: pyvirtualdisplay in c:\\users\\jimmy\\onedrive\\documents\\uni\\3rd year\\project\\finalsimulation\\.venv\\lib\\site-packages (3.0)\n",
      "Requirement already satisfied: gymnasium in c:\\users\\jimmy\\onedrive\\documents\\uni\\3rd year\\project\\finalsimulation\\.venv\\lib\\site-packages (0.29.1)\n",
      "Requirement already satisfied: numpy>=1.21.0 in c:\\users\\jimmy\\onedrive\\documents\\uni\\3rd year\\project\\finalsimulation\\.venv\\lib\\site-packages (from gymnasium) (1.26.4)\n",
      "Requirement already satisfied: cloudpickle>=1.2.0 in c:\\users\\jimmy\\onedrive\\documents\\uni\\3rd year\\project\\finalsimulation\\.venv\\lib\\site-packages (from gymnasium) (3.0.0)\n",
      "Requirement already satisfied: typing-extensions>=4.3.0 in c:\\users\\jimmy\\onedrive\\documents\\uni\\3rd year\\project\\finalsimulation\\.venv\\lib\\site-packages (from gymnasium) (4.10.0)\n",
      "Requirement already satisfied: farama-notifications>=0.0.1 in c:\\users\\jimmy\\onedrive\\documents\\uni\\3rd year\\project\\finalsimulation\\.venv\\lib\\site-packages (from gymnasium) (0.0.4)\n"
     ]
    },
    {
     "name": "stderr",
     "output_type": "stream",
     "text": [
      "c:\\Users\\jimmy\\OneDrive\\Documents\\Uni\\3rd Year\\Project\\FinalSimulation\\.venv\\Lib\\site-packages\\gymnasium\\envs\\registration.py:694: UserWarning: \u001b[33mWARN: Overriding environment exit-v0 already in registry.\u001b[0m\n",
      "  logger.warn(f\"Overriding environment {new_spec.id} already in registry.\")\n",
      "c:\\Users\\jimmy\\OneDrive\\Documents\\Uni\\3rd Year\\Project\\FinalSimulation\\.venv\\Lib\\site-packages\\gymnasium\\envs\\registration.py:694: UserWarning: \u001b[33mWARN: Overriding environment highway-v0 already in registry.\u001b[0m\n",
      "  logger.warn(f\"Overriding environment {new_spec.id} already in registry.\")\n",
      "c:\\Users\\jimmy\\OneDrive\\Documents\\Uni\\3rd Year\\Project\\FinalSimulation\\.venv\\Lib\\site-packages\\gymnasium\\envs\\registration.py:694: UserWarning: \u001b[33mWARN: Overriding environment highway-fast-v0 already in registry.\u001b[0m\n",
      "  logger.warn(f\"Overriding environment {new_spec.id} already in registry.\")\n",
      "c:\\Users\\jimmy\\OneDrive\\Documents\\Uni\\3rd Year\\Project\\FinalSimulation\\.venv\\Lib\\site-packages\\gymnasium\\envs\\registration.py:694: UserWarning: \u001b[33mWARN: Overriding environment intersection-v0 already in registry.\u001b[0m\n",
      "  logger.warn(f\"Overriding environment {new_spec.id} already in registry.\")\n",
      "c:\\Users\\jimmy\\OneDrive\\Documents\\Uni\\3rd Year\\Project\\FinalSimulation\\.venv\\Lib\\site-packages\\gymnasium\\envs\\registration.py:694: UserWarning: \u001b[33mWARN: Overriding environment intersection-v1 already in registry.\u001b[0m\n",
      "  logger.warn(f\"Overriding environment {new_spec.id} already in registry.\")\n",
      "c:\\Users\\jimmy\\OneDrive\\Documents\\Uni\\3rd Year\\Project\\FinalSimulation\\.venv\\Lib\\site-packages\\gymnasium\\envs\\registration.py:694: UserWarning: \u001b[33mWARN: Overriding environment intersection-multi-agent-v0 already in registry.\u001b[0m\n",
      "  logger.warn(f\"Overriding environment {new_spec.id} already in registry.\")\n",
      "c:\\Users\\jimmy\\OneDrive\\Documents\\Uni\\3rd Year\\Project\\FinalSimulation\\.venv\\Lib\\site-packages\\gymnasium\\envs\\registration.py:694: UserWarning: \u001b[33mWARN: Overriding environment intersection-multi-agent-v1 already in registry.\u001b[0m\n",
      "  logger.warn(f\"Overriding environment {new_spec.id} already in registry.\")\n",
      "c:\\Users\\jimmy\\OneDrive\\Documents\\Uni\\3rd Year\\Project\\FinalSimulation\\.venv\\Lib\\site-packages\\gymnasium\\envs\\registration.py:694: UserWarning: \u001b[33mWARN: Overriding environment three-intersection-v0 already in registry.\u001b[0m\n",
      "  logger.warn(f\"Overriding environment {new_spec.id} already in registry.\")\n",
      "c:\\Users\\jimmy\\OneDrive\\Documents\\Uni\\3rd Year\\Project\\FinalSimulation\\.venv\\Lib\\site-packages\\gymnasium\\envs\\registration.py:694: UserWarning: \u001b[33mWARN: Overriding environment three-intersection-multi-agent-v0 already in registry.\u001b[0m\n",
      "  logger.warn(f\"Overriding environment {new_spec.id} already in registry.\")\n",
      "c:\\Users\\jimmy\\OneDrive\\Documents\\Uni\\3rd Year\\Project\\FinalSimulation\\.venv\\Lib\\site-packages\\gymnasium\\envs\\registration.py:694: UserWarning: \u001b[33mWARN: Overriding environment lane-keeping-v0 already in registry.\u001b[0m\n",
      "  logger.warn(f\"Overriding environment {new_spec.id} already in registry.\")\n",
      "c:\\Users\\jimmy\\OneDrive\\Documents\\Uni\\3rd Year\\Project\\FinalSimulation\\.venv\\Lib\\site-packages\\gymnasium\\envs\\registration.py:694: UserWarning: \u001b[33mWARN: Overriding environment merge-v0 already in registry.\u001b[0m\n",
      "  logger.warn(f\"Overriding environment {new_spec.id} already in registry.\")\n",
      "c:\\Users\\jimmy\\OneDrive\\Documents\\Uni\\3rd Year\\Project\\FinalSimulation\\.venv\\Lib\\site-packages\\gymnasium\\envs\\registration.py:694: UserWarning: \u001b[33mWARN: Overriding environment parking-v0 already in registry.\u001b[0m\n",
      "  logger.warn(f\"Overriding environment {new_spec.id} already in registry.\")\n",
      "c:\\Users\\jimmy\\OneDrive\\Documents\\Uni\\3rd Year\\Project\\FinalSimulation\\.venv\\Lib\\site-packages\\gymnasium\\envs\\registration.py:694: UserWarning: \u001b[33mWARN: Overriding environment parking-ActionRepeat-v0 already in registry.\u001b[0m\n",
      "  logger.warn(f\"Overriding environment {new_spec.id} already in registry.\")\n",
      "c:\\Users\\jimmy\\OneDrive\\Documents\\Uni\\3rd Year\\Project\\FinalSimulation\\.venv\\Lib\\site-packages\\gymnasium\\envs\\registration.py:694: UserWarning: \u001b[33mWARN: Overriding environment parking-parked-v0 already in registry.\u001b[0m\n",
      "  logger.warn(f\"Overriding environment {new_spec.id} already in registry.\")\n",
      "c:\\Users\\jimmy\\OneDrive\\Documents\\Uni\\3rd Year\\Project\\FinalSimulation\\.venv\\Lib\\site-packages\\gymnasium\\envs\\registration.py:694: UserWarning: \u001b[33mWARN: Overriding environment racetrack-v0 already in registry.\u001b[0m\n",
      "  logger.warn(f\"Overriding environment {new_spec.id} already in registry.\")\n",
      "c:\\Users\\jimmy\\OneDrive\\Documents\\Uni\\3rd Year\\Project\\FinalSimulation\\.venv\\Lib\\site-packages\\gymnasium\\envs\\registration.py:694: UserWarning: \u001b[33mWARN: Overriding environment roundabout-v0 already in registry.\u001b[0m\n",
      "  logger.warn(f\"Overriding environment {new_spec.id} already in registry.\")\n",
      "c:\\Users\\jimmy\\OneDrive\\Documents\\Uni\\3rd Year\\Project\\FinalSimulation\\.venv\\Lib\\site-packages\\gymnasium\\envs\\registration.py:694: UserWarning: \u001b[33mWARN: Overriding environment two-way-v0 already in registry.\u001b[0m\n",
      "  logger.warn(f\"Overriding environment {new_spec.id} already in registry.\")\n",
      "c:\\Users\\jimmy\\OneDrive\\Documents\\Uni\\3rd Year\\Project\\FinalSimulation\\.venv\\Lib\\site-packages\\gymnasium\\envs\\registration.py:694: UserWarning: \u001b[33mWARN: Overriding environment u-turn-v0 already in registry.\u001b[0m\n",
      "  logger.warn(f\"Overriding environment {new_spec.id} already in registry.\")\n"
     ]
    },
    {
     "name": "stdout",
     "output_type": "stream",
     "text": [
      " Volume in drive C has no label.\n",
      " Volume Serial Number is 245B-033E\n",
      "\n",
      " Directory of c:\\Users\\jimmy\\OneDrive\\Documents\\Uni\\3rd Year\\Project\\FinalSimulation\\PettingZooSim\\HighwayEnv\n",
      "\n",
      "01/03/2024  15:59    <DIR>          .\n",
      "26/02/2024  15:16    <DIR>          ..\n",
      "22/02/2024  21:47             2,036 .gitignore\n",
      "22/02/2024  21:47               675 .pre-commit-config.yaml\n",
      "22/02/2024  21:47               290 CITATION.cff\n",
      "22/02/2024  21:47               130 codecov.yml\n",
      "22/02/2024  21:47    <DIR>          docs\n",
      "01/03/2024  15:47    <DIR>          highway_attention_ppo\n",
      "26/02/2024  15:21    <DIR>          highway_env\n",
      "22/02/2024  21:47             1,072 LICENSE\n",
      "27/02/2024  00:27    <DIR>          out\n",
      "22/02/2024  21:47               103 pyproject.toml\n",
      "22/02/2024  21:47            14,584 README.md\n",
      "29/02/2024  21:59           362,607 runningStuff3.ipynb\n",
      "01/03/2024  15:15         1,315,108 runningStuff4.ipynb\n",
      "01/03/2024  15:15         1,315,108 runningStuff5.ipynb\n",
      "25/02/2024  15:13    <DIR>          scripts\n",
      "22/02/2024  21:47               943 setup.cfg\n",
      "22/02/2024  21:47               738 setup.py\n",
      "22/02/2024  21:47    <DIR>          tests\n",
      "26/02/2024  00:24                 0 __init__.py\n",
      "26/02/2024  00:25    <DIR>          __pycache__\n",
      "              13 File(s)      3,013,394 bytes\n",
      "               9 Dir(s)  284,088,639,488 bytes free\n",
      "Collecting rl-agents\n",
      "  Cloning https://github.com/eleurent/rl-agents to c:\\users\\jimmy\\appdata\\local\\temp\\pip-install-itcvhzb6\\rl-agents_d0fc5e1bfc5d4a2b88464b690db4c236\n",
      "  Resolved https://github.com/eleurent/rl-agents to commit 84df15ea977271e6a4d015f10f9f355f7e866890\n",
      "  Installing build dependencies: started\n",
      "  Installing build dependencies: finished with status 'done'\n",
      "  Getting requirements to build wheel: started\n",
      "  Getting requirements to build wheel: finished with status 'done'\n",
      "  Installing backend dependencies: started\n",
      "  Installing backend dependencies: finished with status 'done'\n",
      "  Preparing metadata (pyproject.toml): started\n",
      "  Preparing metadata (pyproject.toml): finished with status 'done'\n",
      "Requirement already satisfied: gymnasium in c:\\users\\jimmy\\onedrive\\documents\\uni\\3rd year\\project\\finalsimulation\\.venv\\lib\\site-packages (from rl-agents) (0.29.1)\n",
      "Requirement already satisfied: numpy in c:\\users\\jimmy\\onedrive\\documents\\uni\\3rd year\\project\\finalsimulation\\.venv\\lib\\site-packages (from rl-agents) (1.26.4)\n",
      "Requirement already satisfied: pandas in c:\\users\\jimmy\\onedrive\\documents\\uni\\3rd year\\project\\finalsimulation\\.venv\\lib\\site-packages (from rl-agents) (2.2.1)\n",
      "Requirement already satisfied: numba in c:\\users\\jimmy\\onedrive\\documents\\uni\\3rd year\\project\\finalsimulation\\.venv\\lib\\site-packages (from rl-agents) (0.59.0)\n",
      "Requirement already satisfied: pygame in c:\\users\\jimmy\\onedrive\\documents\\uni\\3rd year\\project\\finalsimulation\\.venv\\lib\\site-packages (from rl-agents) (2.5.2)\n",
      "Requirement already satisfied: matplotlib in c:\\users\\jimmy\\onedrive\\documents\\uni\\3rd year\\project\\finalsimulation\\.venv\\lib\\site-packages (from rl-agents) (3.8.3)\n",
      "Requirement already satisfied: seaborn in c:\\users\\jimmy\\onedrive\\documents\\uni\\3rd year\\project\\finalsimulation\\.venv\\lib\\site-packages (from rl-agents) (0.13.2)\n",
      "Requirement already satisfied: six in c:\\users\\jimmy\\onedrive\\documents\\uni\\3rd year\\project\\finalsimulation\\.venv\\lib\\site-packages (from rl-agents) (1.16.0)\n",
      "Requirement already satisfied: docopt in c:\\users\\jimmy\\onedrive\\documents\\uni\\3rd year\\project\\finalsimulation\\.venv\\lib\\site-packages (from rl-agents) (0.6.2)\n",
      "Requirement already satisfied: torch>=1.2.0 in c:\\users\\jimmy\\onedrive\\documents\\uni\\3rd year\\project\\finalsimulation\\.venv\\lib\\site-packages (from rl-agents) (2.2.1)\n",
      "Requirement already satisfied: tensorboardX in c:\\users\\jimmy\\onedrive\\documents\\uni\\3rd year\\project\\finalsimulation\\.venv\\lib\\site-packages (from rl-agents) (2.6.2.2)\n",
      "Requirement already satisfied: scipy in c:\\users\\jimmy\\onedrive\\documents\\uni\\3rd year\\project\\finalsimulation\\.venv\\lib\\site-packages (from rl-agents) (1.12.0)\n",
      "Requirement already satisfied: filelock in c:\\users\\jimmy\\onedrive\\documents\\uni\\3rd year\\project\\finalsimulation\\.venv\\lib\\site-packages (from torch>=1.2.0->rl-agents) (3.13.1)\n",
      "Requirement already satisfied: typing-extensions>=4.8.0 in c:\\users\\jimmy\\onedrive\\documents\\uni\\3rd year\\project\\finalsimulation\\.venv\\lib\\site-packages (from torch>=1.2.0->rl-agents) (4.10.0)\n",
      "Requirement already satisfied: sympy in c:\\users\\jimmy\\onedrive\\documents\\uni\\3rd year\\project\\finalsimulation\\.venv\\lib\\site-packages (from torch>=1.2.0->rl-agents) (1.12)\n",
      "Requirement already satisfied: networkx in c:\\users\\jimmy\\onedrive\\documents\\uni\\3rd year\\project\\finalsimulation\\.venv\\lib\\site-packages (from torch>=1.2.0->rl-agents) (3.2.1)\n",
      "Requirement already satisfied: jinja2 in c:\\users\\jimmy\\onedrive\\documents\\uni\\3rd year\\project\\finalsimulation\\.venv\\lib\\site-packages (from torch>=1.2.0->rl-agents) (3.1.3)\n",
      "Requirement already satisfied: fsspec in c:\\users\\jimmy\\onedrive\\documents\\uni\\3rd year\\project\\finalsimulation\\.venv\\lib\\site-packages (from torch>=1.2.0->rl-agents) (2024.2.0)\n",
      "Requirement already satisfied: cloudpickle>=1.2.0 in c:\\users\\jimmy\\onedrive\\documents\\uni\\3rd year\\project\\finalsimulation\\.venv\\lib\\site-packages (from gymnasium->rl-agents) (3.0.0)\n",
      "Requirement already satisfied: farama-notifications>=0.0.1 in c:\\users\\jimmy\\onedrive\\documents\\uni\\3rd year\\project\\finalsimulation\\.venv\\lib\\site-packages (from gymnasium->rl-agents) (0.0.4)\n",
      "Requirement already satisfied: contourpy>=1.0.1 in c:\\users\\jimmy\\onedrive\\documents\\uni\\3rd year\\project\\finalsimulation\\.venv\\lib\\site-packages (from matplotlib->rl-agents) (1.2.0)\n",
      "Requirement already satisfied: cycler>=0.10 in c:\\users\\jimmy\\onedrive\\documents\\uni\\3rd year\\project\\finalsimulation\\.venv\\lib\\site-packages (from matplotlib->rl-agents) (0.12.1)\n",
      "Requirement already satisfied: fonttools>=4.22.0 in c:\\users\\jimmy\\onedrive\\documents\\uni\\3rd year\\project\\finalsimulation\\.venv\\lib\\site-packages (from matplotlib->rl-agents) (4.49.0)\n",
      "Requirement already satisfied: kiwisolver>=1.3.1 in c:\\users\\jimmy\\onedrive\\documents\\uni\\3rd year\\project\\finalsimulation\\.venv\\lib\\site-packages (from matplotlib->rl-agents) (1.4.5)\n",
      "Requirement already satisfied: packaging>=20.0 in c:\\users\\jimmy\\onedrive\\documents\\uni\\3rd year\\project\\finalsimulation\\.venv\\lib\\site-packages (from matplotlib->rl-agents) (23.2)\n",
      "Requirement already satisfied: pillow>=8 in c:\\users\\jimmy\\onedrive\\documents\\uni\\3rd year\\project\\finalsimulation\\.venv\\lib\\site-packages (from matplotlib->rl-agents) (10.2.0)\n",
      "Requirement already satisfied: pyparsing>=2.3.1 in c:\\users\\jimmy\\onedrive\\documents\\uni\\3rd year\\project\\finalsimulation\\.venv\\lib\\site-packages (from matplotlib->rl-agents) (3.1.1)\n",
      "Requirement already satisfied: python-dateutil>=2.7 in c:\\users\\jimmy\\onedrive\\documents\\uni\\3rd year\\project\\finalsimulation\\.venv\\lib\\site-packages (from matplotlib->rl-agents) (2.8.2)\n",
      "Requirement already satisfied: llvmlite<0.43,>=0.42.0dev0 in c:\\users\\jimmy\\onedrive\\documents\\uni\\3rd year\\project\\finalsimulation\\.venv\\lib\\site-packages (from numba->rl-agents) (0.42.0)\n",
      "Requirement already satisfied: pytz>=2020.1 in c:\\users\\jimmy\\onedrive\\documents\\uni\\3rd year\\project\\finalsimulation\\.venv\\lib\\site-packages (from pandas->rl-agents) (2024.1)\n",
      "Requirement already satisfied: tzdata>=2022.7 in c:\\users\\jimmy\\onedrive\\documents\\uni\\3rd year\\project\\finalsimulation\\.venv\\lib\\site-packages (from pandas->rl-agents) (2024.1)\n",
      "Requirement already satisfied: protobuf>=3.20 in c:\\users\\jimmy\\onedrive\\documents\\uni\\3rd year\\project\\finalsimulation\\.venv\\lib\\site-packages (from tensorboardX->rl-agents) (4.25.3)\n",
      "Requirement already satisfied: MarkupSafe>=2.0 in c:\\users\\jimmy\\onedrive\\documents\\uni\\3rd year\\project\\finalsimulation\\.venv\\lib\\site-packages (from jinja2->torch>=1.2.0->rl-agents) (2.1.5)\n",
      "Requirement already satisfied: mpmath>=0.19 in c:\\users\\jimmy\\onedrive\\documents\\uni\\3rd year\\project\\finalsimulation\\.venv\\lib\\site-packages (from sympy->torch>=1.2.0->rl-agents) (1.3.0)\n"
     ]
    },
    {
     "name": "stderr",
     "output_type": "stream",
     "text": [
      "  Running command git clone --filter=blob:none --quiet https://github.com/eleurent/rl-agents 'C:\\Users\\jimmy\\AppData\\Local\\Temp\\pip-install-itcvhzb6\\rl-agents_d0fc5e1bfc5d4a2b88464b690db4c236'\n"
     ]
    },
    {
     "name": "stdout",
     "output_type": "stream",
     "text": [
      "Requirement already satisfied: moviepy in c:\\users\\jimmy\\onedrive\\documents\\uni\\3rd year\\project\\finalsimulation\\.venv\\lib\\site-packages (1.0.3)\n",
      "Requirement already satisfied: decorator<5.0,>=4.0.2 in c:\\users\\jimmy\\onedrive\\documents\\uni\\3rd year\\project\\finalsimulation\\.venv\\lib\\site-packages (from moviepy) (4.4.2)\n",
      "Requirement already satisfied: tqdm<5.0,>=4.11.2 in c:\\users\\jimmy\\onedrive\\documents\\uni\\3rd year\\project\\finalsimulation\\.venv\\lib\\site-packages (from moviepy) (4.66.2)\n",
      "Requirement already satisfied: requests<3.0,>=2.8.1 in c:\\users\\jimmy\\onedrive\\documents\\uni\\3rd year\\project\\finalsimulation\\.venv\\lib\\site-packages (from moviepy) (2.31.0)\n",
      "Requirement already satisfied: proglog<=1.0.0 in c:\\users\\jimmy\\onedrive\\documents\\uni\\3rd year\\project\\finalsimulation\\.venv\\lib\\site-packages (from moviepy) (0.1.10)\n",
      "Requirement already satisfied: numpy>=1.17.3 in c:\\users\\jimmy\\onedrive\\documents\\uni\\3rd year\\project\\finalsimulation\\.venv\\lib\\site-packages (from moviepy) (1.26.4)\n",
      "Requirement already satisfied: imageio<3.0,>=2.5 in c:\\users\\jimmy\\onedrive\\documents\\uni\\3rd year\\project\\finalsimulation\\.venv\\lib\\site-packages (from moviepy) (2.34.0)\n",
      "Requirement already satisfied: imageio-ffmpeg>=0.2.0 in c:\\users\\jimmy\\onedrive\\documents\\uni\\3rd year\\project\\finalsimulation\\.venv\\lib\\site-packages (from moviepy) (0.4.9)\n",
      "Requirement already satisfied: pillow>=8.3.2 in c:\\users\\jimmy\\onedrive\\documents\\uni\\3rd year\\project\\finalsimulation\\.venv\\lib\\site-packages (from imageio<3.0,>=2.5->moviepy) (10.2.0)\n",
      "Requirement already satisfied: setuptools in c:\\users\\jimmy\\onedrive\\documents\\uni\\3rd year\\project\\finalsimulation\\.venv\\lib\\site-packages (from imageio-ffmpeg>=0.2.0->moviepy) (65.5.0)\n",
      "Requirement already satisfied: charset-normalizer<4,>=2 in c:\\users\\jimmy\\onedrive\\documents\\uni\\3rd year\\project\\finalsimulation\\.venv\\lib\\site-packages (from requests<3.0,>=2.8.1->moviepy) (3.3.2)\n",
      "Requirement already satisfied: idna<4,>=2.5 in c:\\users\\jimmy\\onedrive\\documents\\uni\\3rd year\\project\\finalsimulation\\.venv\\lib\\site-packages (from requests<3.0,>=2.8.1->moviepy) (3.6)\n",
      "Requirement already satisfied: urllib3<3,>=1.21.1 in c:\\users\\jimmy\\onedrive\\documents\\uni\\3rd year\\project\\finalsimulation\\.venv\\lib\\site-packages (from requests<3.0,>=2.8.1->moviepy) (2.2.1)\n",
      "Requirement already satisfied: certifi>=2017.4.17 in c:\\users\\jimmy\\onedrive\\documents\\uni\\3rd year\\project\\finalsimulation\\.venv\\lib\\site-packages (from requests<3.0,>=2.8.1->moviepy) (2024.2.2)\n",
      "Requirement already satisfied: colorama in c:\\users\\jimmy\\onedrive\\documents\\uni\\3rd year\\project\\finalsimulation\\.venv\\lib\\site-packages (from tqdm<5.0,>=4.11.2->moviepy) (0.4.6)\n",
      "Requirement already satisfied: imageio_ffmpeg in c:\\users\\jimmy\\onedrive\\documents\\uni\\3rd year\\project\\finalsimulation\\.venv\\lib\\site-packages (0.4.9)\n",
      "Requirement already satisfied: tensorboard in c:\\users\\jimmy\\onedrive\\documents\\uni\\3rd year\\project\\finalsimulation\\.venv\\lib\\site-packages (2.16.2)\n",
      "Requirement already satisfied: setuptools in c:\\users\\jimmy\\onedrive\\documents\\uni\\3rd year\\project\\finalsimulation\\.venv\\lib\\site-packages (from imageio_ffmpeg) (65.5.0)\n",
      "Requirement already satisfied: absl-py>=0.4 in c:\\users\\jimmy\\onedrive\\documents\\uni\\3rd year\\project\\finalsimulation\\.venv\\lib\\site-packages (from tensorboard) (2.1.0)\n",
      "Requirement already satisfied: grpcio>=1.48.2 in c:\\users\\jimmy\\onedrive\\documents\\uni\\3rd year\\project\\finalsimulation\\.venv\\lib\\site-packages (from tensorboard) (1.62.0)\n",
      "Requirement already satisfied: markdown>=2.6.8 in c:\\users\\jimmy\\onedrive\\documents\\uni\\3rd year\\project\\finalsimulation\\.venv\\lib\\site-packages (from tensorboard) (3.5.2)\n",
      "Requirement already satisfied: numpy>=1.12.0 in c:\\users\\jimmy\\onedrive\\documents\\uni\\3rd year\\project\\finalsimulation\\.venv\\lib\\site-packages (from tensorboard) (1.26.4)\n",
      "Requirement already satisfied: protobuf!=4.24.0,>=3.19.6 in c:\\users\\jimmy\\onedrive\\documents\\uni\\3rd year\\project\\finalsimulation\\.venv\\lib\\site-packages (from tensorboard) (4.25.3)\n",
      "Requirement already satisfied: six>1.9 in c:\\users\\jimmy\\onedrive\\documents\\uni\\3rd year\\project\\finalsimulation\\.venv\\lib\\site-packages (from tensorboard) (1.16.0)\n",
      "Requirement already satisfied: tensorboard-data-server<0.8.0,>=0.7.0 in c:\\users\\jimmy\\onedrive\\documents\\uni\\3rd year\\project\\finalsimulation\\.venv\\lib\\site-packages (from tensorboard) (0.7.2)\n",
      "Requirement already satisfied: werkzeug>=1.0.1 in c:\\users\\jimmy\\onedrive\\documents\\uni\\3rd year\\project\\finalsimulation\\.venv\\lib\\site-packages (from tensorboard) (3.0.1)\n",
      "Requirement already satisfied: MarkupSafe>=2.1.1 in c:\\users\\jimmy\\onedrive\\documents\\uni\\3rd year\\project\\finalsimulation\\.venv\\lib\\site-packages (from werkzeug>=1.0.1->tensorboard) (2.1.5)\n",
      "Requirement already satisfied: tensorboardx in c:\\users\\jimmy\\onedrive\\documents\\uni\\3rd year\\project\\finalsimulation\\.venv\\lib\\site-packages (2.6.2.2)\n",
      "Requirement already satisfied: gym in c:\\users\\jimmy\\onedrive\\documents\\uni\\3rd year\\project\\finalsimulation\\.venv\\lib\\site-packages (0.26.2)\n",
      "Requirement already satisfied: pyvirtualdisplay in c:\\users\\jimmy\\onedrive\\documents\\uni\\3rd year\\project\\finalsimulation\\.venv\\lib\\site-packages (3.0)\n",
      "Requirement already satisfied: tensorboard in c:\\users\\jimmy\\onedrive\\documents\\uni\\3rd year\\project\\finalsimulation\\.venv\\lib\\site-packages (2.16.2)\n",
      "Requirement already satisfied: numpy in c:\\users\\jimmy\\onedrive\\documents\\uni\\3rd year\\project\\finalsimulation\\.venv\\lib\\site-packages (from tensorboardx) (1.26.4)\n",
      "Requirement already satisfied: packaging in c:\\users\\jimmy\\onedrive\\documents\\uni\\3rd year\\project\\finalsimulation\\.venv\\lib\\site-packages (from tensorboardx) (23.2)\n",
      "Requirement already satisfied: protobuf>=3.20 in c:\\users\\jimmy\\onedrive\\documents\\uni\\3rd year\\project\\finalsimulation\\.venv\\lib\\site-packages (from tensorboardx) (4.25.3)\n",
      "Requirement already satisfied: cloudpickle>=1.2.0 in c:\\users\\jimmy\\onedrive\\documents\\uni\\3rd year\\project\\finalsimulation\\.venv\\lib\\site-packages (from gym) (3.0.0)\n",
      "Requirement already satisfied: gym-notices>=0.0.4 in c:\\users\\jimmy\\onedrive\\documents\\uni\\3rd year\\project\\finalsimulation\\.venv\\lib\\site-packages (from gym) (0.0.8)\n",
      "Requirement already satisfied: absl-py>=0.4 in c:\\users\\jimmy\\onedrive\\documents\\uni\\3rd year\\project\\finalsimulation\\.venv\\lib\\site-packages (from tensorboard) (2.1.0)\n",
      "Requirement already satisfied: grpcio>=1.48.2 in c:\\users\\jimmy\\onedrive\\documents\\uni\\3rd year\\project\\finalsimulation\\.venv\\lib\\site-packages (from tensorboard) (1.62.0)\n",
      "Requirement already satisfied: markdown>=2.6.8 in c:\\users\\jimmy\\onedrive\\documents\\uni\\3rd year\\project\\finalsimulation\\.venv\\lib\\site-packages (from tensorboard) (3.5.2)\n",
      "Requirement already satisfied: setuptools>=41.0.0 in c:\\users\\jimmy\\onedrive\\documents\\uni\\3rd year\\project\\finalsimulation\\.venv\\lib\\site-packages (from tensorboard) (65.5.0)\n",
      "Requirement already satisfied: six>1.9 in c:\\users\\jimmy\\onedrive\\documents\\uni\\3rd year\\project\\finalsimulation\\.venv\\lib\\site-packages (from tensorboard) (1.16.0)\n",
      "Requirement already satisfied: tensorboard-data-server<0.8.0,>=0.7.0 in c:\\users\\jimmy\\onedrive\\documents\\uni\\3rd year\\project\\finalsimulation\\.venv\\lib\\site-packages (from tensorboard) (0.7.2)\n",
      "Requirement already satisfied: werkzeug>=1.0.1 in c:\\users\\jimmy\\onedrive\\documents\\uni\\3rd year\\project\\finalsimulation\\.venv\\lib\\site-packages (from tensorboard) (3.0.1)\n",
      "Requirement already satisfied: MarkupSafe>=2.1.1 in c:\\users\\jimmy\\onedrive\\documents\\uni\\3rd year\\project\\finalsimulation\\.venv\\lib\\site-packages (from werkzeug>=1.0.1->tensorboard) (2.1.5)\n"
     ]
    }
   ],
   "source": [
    "#@title Import requirements\n",
    "!pip install numpy\n",
    "!pip install pyvirtualdisplay gymnasium\n",
    "\n",
    "import base64\n",
    "from pathlib import Path\n",
    "\n",
    "from gymnasium.wrappers import RecordVideo\n",
    "from IPython import display as ipythondisplay\n",
    "from pyvirtualdisplay import Display\n",
    "import highway_env\n",
    "\n",
    "highway_env.register_highway_envs()\n",
    "\n",
    "\n",
    "\n",
    "# Environment\n",
    "\n",
    "import gymnasium as gym\n",
    "!dir \n",
    "# !cd PettingZooSim\\rl-agents\n",
    "\n",
    "# Agent\n",
    "!pip install git+https://github.com/eleurent/rl-agents#egg=rl-agents\n",
    "\n",
    "# Visualisation utils\n",
    "!pip install moviepy\n",
    "\n",
    "\n",
    "!pip install imageio_ffmpeg tensorboard \n",
    "import sys\n",
    "%load_ext tensorboard\n",
    "!pip install tensorboardx gym pyvirtualdisplay tensorboard\n",
    "sys.path.insert(0, '/HighwayEnv/scripts/')\n",
    "def show_videos(path=\"videos\"):\n",
    "    html = []\n",
    "    for mp4 in Path(path).glob(\"*.mp4\"):\n",
    "        video_b64 = base64.b64encode(mp4.read_bytes())\n",
    "        html.append(\n",
    "            \"\"\"<video alt=\"{}\" autoplay\n",
    "                      loop controls style=\"height: 400px;\">\n",
    "                      <source src=\"data:video/mp4;base64,{}\" type=\"video/mp4\" />\n",
    "                 </video>\"\"\".format(\n",
    "                mp4, video_b64.decode(\"ascii\")\n",
    "            )\n",
    "        )\n",
    "    ipythondisplay.display(ipythondisplay.HTML(data=\"<br>\".join(html)))"
   ]
  },
  {
   "cell_type": "code",
   "execution_count": 3,
   "metadata": {},
   "outputs": [
    {
     "name": "stderr",
     "output_type": "stream",
     "text": [
      "Preferred device cuda:best unavailable, switching to default cpu\n"
     ]
    },
    {
     "name": "stdout",
     "output_type": "stream",
     "text": [
      "agent_config ../rl-agents/scripts/configs/IntersectionEnv/agents/DQNAgent/ego_attention_8h.json\n",
      "config_path ../rl-agents/scripts/configs/IntersectionEnv/agents/DQNAgent/ego_attention_8h.json\n",
      "config_path ../rl-agents/scripts/configs/IntersectionEnv/agents/DQNAgent/ego_attention.json\n",
      "config_path ../rl-agents/scripts/configs/IntersectionEnv/agents/DQNAgent/baseline.json\n",
      "Ready to train <rl_agents.agents.deep_q_network.pytorch.DQNAgent object at 0x000002A38661ACD0> on <OrderEnforcing<PassiveEnvChecker<ThreeWayIntersectionEnv<three-intersection-v0>>>>\n"
     ]
    },
    {
     "name": "stderr",
     "output_type": "stream",
     "text": [
      "c:\\Users\\jimmy\\OneDrive\\Documents\\Uni\\3rd Year\\Project\\FinalSimulation\\.venv\\Lib\\site-packages\\gymnasium\\core.py:311: UserWarning: \u001b[33mWARN: env.config to get variables from other wrappers is deprecated and will be removed in v1.0, to get this variable you can do `env.unwrapped.config` for environment variables or `env.get_wrapper_attr('config')` that will search the reminding wrappers.\u001b[0m\n",
      "  logger.warn(\n"
     ]
    }
   ],
   "source": [
    "#@title Prepare environment, agent, and evaluation process.\n",
    "\n",
    "NUM_EPISODES = 100 #@param {type: \"integer\"}\n",
    "\n",
    "from rl_agents.trainer.evaluation import Evaluation\n",
    "from rl_agents.agents.common.factory import load_agent, load_environment\n",
    "\n",
    "# Get the environment and agent configurations from the rl-agents repository\n",
    "\n",
    "\n",
    "env_config = '../rl-agents/scripts/configs/IntersectionEnv/env_3way_int.json'\n",
    "agent_config = '../rl-agents/scripts/configs/IntersectionEnv/agents/DQNAgent/ego_attention_8h.json'\n",
    "\n",
    "env = load_environment(env_config)\n",
    "agent = load_agent(agent_config, env)\n",
    "evaluation = Evaluation(env, agent, num_episodes=NUM_EPISODES, display_env=False, display_agent=False)\n",
    "print(f\"Ready to train {agent} on {env}\")"
   ]
  },
  {
   "cell_type": "code",
   "execution_count": 4,
   "metadata": {},
   "outputs": [
    {
     "data": {
      "text/plain": [
       "Reusing TensorBoard on port 6006 (pid 20836), started 3 days, 16:08:44 ago. (Use '!kill 20836' to kill it.)"
      ]
     },
     "metadata": {},
     "output_type": "display_data"
    },
    {
     "data": {
      "text/html": [
       "\n",
       "      <iframe id=\"tensorboard-frame-52c8d8815f97cad4\" width=\"100%\" height=\"800\" frameborder=\"0\">\n",
       "      </iframe>\n",
       "      <script>\n",
       "        (function() {\n",
       "          const frame = document.getElementById(\"tensorboard-frame-52c8d8815f97cad4\");\n",
       "          const url = new URL(\"http://localhost\");\n",
       "          const port = 6006;\n",
       "          if (port) {\n",
       "            url.port = port;\n",
       "          }\n",
       "          frame.src = url;\n",
       "        })();\n",
       "      </script>\n",
       "    "
      ],
      "text/plain": [
       "<IPython.core.display.HTML object>"
      ]
     },
     "metadata": {},
     "output_type": "display_data"
    }
   ],
   "source": [
    "%tensorboard --logdir \"{evaluation.directory}\""
   ]
  },
  {
   "cell_type": "code",
   "execution_count": 5,
   "metadata": {},
   "outputs": [
    {
     "name": "stderr",
     "output_type": "stream",
     "text": [
      "c:\\Users\\jimmy\\OneDrive\\Documents\\Uni\\3rd Year\\Project\\FinalSimulation\\.venv\\Lib\\site-packages\\rl_agents\\agents\\deep_q_network\\pytorch.py:80: UserWarning: Creating a tensor from a list of numpy.ndarrays is extremely slow. Please consider converting the list to a single numpy.ndarray with numpy.array() before converting to a tensor. (Triggered internally at ..\\torch\\csrc\\utils\\tensor_new.cpp:278.)\n",
      "  return self.value_net(torch.tensor(states, dtype=torch.float).to(self.device)).data.cpu().numpy()\n",
      "[INFO] Episode 0 score: 10.0 \n",
      "[INFO] Saved DQNAgent model to out\\ThreeWayIntersectionEnv\\DQNAgent\\run_20240301-163549_1976\\checkpoint-0.tar \n",
      "[INFO] Episode 1 score: 3.7 \n",
      "[INFO] Saved DQNAgent model to out\\ThreeWayIntersectionEnv\\DQNAgent\\run_20240301-163549_1976\\checkpoint-1.tar \n",
      "[INFO] Episode 2 score: 6.3 \n",
      "[INFO] Episode 3 score: 1.0 \n",
      "[INFO] Episode 4 score: 2.5 \n",
      "[INFO] Episode 5 score: 1.9 \n",
      "[INFO] Episode 6 score: 1.8 \n",
      "[INFO] Episode 7 score: 3.8 \n",
      "[INFO] Episode 8 score: 5.2 \n",
      "[INFO] Saved DQNAgent model to out\\ThreeWayIntersectionEnv\\DQNAgent\\run_20240301-163549_1976\\checkpoint-8.tar \n",
      "[INFO] Episode 9 score: 1.0 \n",
      "[INFO] Episode 10 score: 4.3 \n",
      "[INFO] Episode 11 score: 2.0 \n",
      "[INFO] Episode 12 score: 2.0 \n",
      "[INFO] Episode 13 score: 8.0 \n",
      "[INFO] Episode 14 score: 1.0 \n",
      "[INFO] Episode 15 score: 4.5 \n",
      "[INFO] Episode 16 score: 1.0 \n",
      "[INFO] Episode 17 score: 9.8 \n",
      "[INFO] Episode 18 score: 1.0 \n",
      "[INFO] Episode 19 score: 3.6 \n",
      "[INFO] Episode 20 score: 6.3 \n",
      "[INFO] Episode 21 score: 11.0 \n",
      "[INFO] Episode 22 score: 1.0 \n",
      "[INFO] Episode 23 score: 2.0 \n",
      "[INFO] Episode 24 score: 9.8 \n",
      "[INFO] Episode 25 score: 1.9 \n",
      "[INFO] Episode 26 score: 11.0 \n",
      "[INFO] Episode 27 score: 11.3 \n",
      "[INFO] Saved DQNAgent model to out\\ThreeWayIntersectionEnv\\DQNAgent\\run_20240301-163549_1976\\checkpoint-27.tar \n",
      "[INFO] Episode 28 score: 2.0 \n",
      "[INFO] Episode 29 score: 7.8 \n",
      "[INFO] Episode 30 score: 3.7 \n",
      "[INFO] Episode 31 score: 3.5 \n",
      "[INFO] Episode 32 score: 11.0 \n",
      "[INFO] Episode 33 score: 6.2 \n",
      "[INFO] Episode 34 score: 8.5 \n",
      "[INFO] Episode 35 score: 5.0 \n",
      "[INFO] Episode 36 score: 1.8 \n",
      "[INFO] Episode 37 score: 10.9 \n",
      "[INFO] Episode 38 score: 5.7 \n",
      "[INFO] Episode 39 score: 11.0 \n",
      "[INFO] Episode 40 score: 11.1 \n",
      "[INFO] Episode 41 score: 1.9 \n",
      "[INFO] Episode 42 score: 11.8 \n",
      "[INFO] Episode 43 score: 3.8 \n",
      "[INFO] Episode 44 score: 9.5 \n",
      "[INFO] Episode 45 score: 5.9 \n",
      "[INFO] Episode 46 score: 7.7 \n",
      "[INFO] Episode 47 score: 2.0 \n",
      "[INFO] Episode 48 score: 8.5 \n",
      "[INFO] Episode 49 score: 1.0 \n",
      "[INFO] Episode 50 score: 2.0 \n",
      "[INFO] Saved DQNAgent model to out\\ThreeWayIntersectionEnv\\DQNAgent\\run_20240301-163549_1976\\checkpoint-best.tar \n",
      "[INFO] Episode 51 score: 7.8 \n",
      "[INFO] Episode 52 score: 1.8 \n",
      "[INFO] Episode 53 score: 6.3 \n",
      "[INFO] Episode 54 score: 10.8 \n",
      "[INFO] Episode 55 score: 2.0 \n",
      "[INFO] Episode 56 score: 1.0 \n",
      "[INFO] Episode 57 score: 6.0 \n",
      "[INFO] Episode 58 score: 5.0 \n",
      "[INFO] Episode 59 score: 5.0 \n",
      "[INFO] Episode 60 score: 3.6 \n",
      "[INFO] Episode 61 score: 4.0 \n",
      "[INFO] Episode 62 score: 11.0 \n",
      "[INFO] Episode 63 score: 2.8 \n",
      "[INFO] Episode 64 score: 1.0 \n",
      "[INFO] Saved DQNAgent model to out\\ThreeWayIntersectionEnv\\DQNAgent\\run_20240301-163549_1976\\checkpoint-64.tar \n",
      "[INFO] Episode 65 score: 10.2 \n",
      "[INFO] Episode 66 score: 11.3 \n",
      "[INFO] Episode 67 score: 11.0 \n",
      "[INFO] Episode 68 score: 7.5 \n",
      "[INFO] Episode 69 score: 10.8 \n",
      "[INFO] Episode 70 score: 11.0 \n",
      "[INFO] Episode 71 score: 3.0 \n",
      "[INFO] Episode 72 score: 10.8 \n",
      "[INFO] Episode 73 score: 1.0 \n",
      "[INFO] Episode 74 score: 6.3 \n",
      "[INFO] Episode 75 score: 11.0 \n",
      "[INFO] Episode 76 score: 9.7 \n",
      "[INFO] Episode 77 score: 11.0 \n",
      "[INFO] Episode 78 score: 5.9 \n",
      "[INFO] Episode 79 score: 6.0 \n",
      "[INFO] Episode 80 score: 9.6 \n",
      "[INFO] Episode 81 score: 3.7 \n",
      "[INFO] Episode 82 score: 11.0 \n",
      "[INFO] Episode 83 score: 2.0 \n",
      "[INFO] Episode 84 score: 1.9 \n",
      "[INFO] Episode 85 score: 1.0 \n",
      "[INFO] Episode 86 score: 1.0 \n",
      "[INFO] Episode 87 score: 1.9 \n",
      "[INFO] Episode 88 score: 11.2 \n",
      "[INFO] Episode 89 score: 11.6 \n",
      "[INFO] Episode 90 score: 4.5 \n",
      "[INFO] Episode 91 score: 4.2 \n",
      "[INFO] Episode 92 score: 6.8 \n",
      "[INFO] Episode 93 score: 0.0 \n",
      "[INFO] Episode 94 score: 9.0 \n",
      "[INFO] Episode 95 score: 3.5 \n",
      "[INFO] Episode 96 score: 2.0 \n",
      "[INFO] Episode 97 score: 1.9 \n",
      "[INFO] Episode 98 score: 1.0 \n",
      "[INFO] Episode 99 score: 10.8 \n",
      "[INFO] Saved DQNAgent model to out\\ThreeWayIntersectionEnv\\DQNAgent\\run_20240301-163549_1976\\checkpoint-final.tar \n"
     ]
    }
   ],
   "source": [
    "evaluation.train()"
   ]
  },
  {
   "cell_type": "code",
   "execution_count": 6,
   "metadata": {},
   "outputs": [
    {
     "name": "stderr",
     "output_type": "stream",
     "text": [
      "c:\\Users\\jimmy\\OneDrive\\Documents\\Uni\\3rd Year\\Project\\FinalSimulation\\.venv\\Lib\\site-packages\\gymnasium\\core.py:311: UserWarning: \u001b[33mWARN: env.config to get variables from other wrappers is deprecated and will be removed in v1.0, to get this variable you can do `env.unwrapped.config` for environment variables or `env.get_wrapper_attr('config')` that will search the reminding wrappers.\u001b[0m\n",
      "  logger.warn(\n",
      "[WARNING] Preferred device cuda:best unavailable, switching to default cpu \n"
     ]
    },
    {
     "name": "stdout",
     "output_type": "stream",
     "text": [
      "agent_config ../rl-agents/scripts/configs/IntersectionEnv/agents/DQNAgent/ego_attention_8h.json\n",
      "config_path ../rl-agents/scripts/configs/IntersectionEnv/agents/DQNAgent/ego_attention_8h.json\n",
      "config_path ../rl-agents/scripts/configs/IntersectionEnv/agents/DQNAgent/ego_attention.json\n",
      "config_path ../rl-agents/scripts/configs/IntersectionEnv/agents/DQNAgent/baseline.json\n"
     ]
    },
    {
     "name": "stderr",
     "output_type": "stream",
     "text": [
      "INFO: Starting new video recorder writing to c:\\Users\\jimmy\\OneDrive\\Documents\\Uni\\3rd Year\\Project\\FinalSimulation\\PettingZooSim\\HighwayEnv\\out\\ThreeWayIntersectionEnv\\DQNAgent\\run_20240302-110058_1976\\rl-video-episode-0.mp4\n"
     ]
    },
    {
     "ename": "IndexError",
     "evalue": "invalid index to scalar variable.",
     "output_type": "error",
     "traceback": [
      "\u001b[1;31m---------------------------------------------------------------------------\u001b[0m",
      "\u001b[1;31mIndexError\u001b[0m                                Traceback (most recent call last)",
      "Cell \u001b[1;32mIn[6], line 6\u001b[0m\n\u001b[0;32m      4\u001b[0m agent \u001b[38;5;241m=\u001b[39m load_agent(agent_config, env)\n\u001b[0;32m      5\u001b[0m evaluation \u001b[38;5;241m=\u001b[39m Evaluation(env, agent, num_episodes\u001b[38;5;241m=\u001b[39m\u001b[38;5;241m100\u001b[39m)\n\u001b[1;32m----> 6\u001b[0m \u001b[43mevaluation\u001b[49m\u001b[38;5;241;43m.\u001b[39;49m\u001b[43mtrain\u001b[49m\u001b[43m(\u001b[49m\u001b[43m)\u001b[49m\n\u001b[0;32m      7\u001b[0m show_videos(evaluation\u001b[38;5;241m.\u001b[39mrun_directory)\n",
      "File \u001b[1;32mc:\\Users\\jimmy\\OneDrive\\Documents\\Uni\\3rd Year\\Project\\FinalSimulation\\.venv\\Lib\\site-packages\\rl_agents\\trainer\\evaluation.py:120\u001b[0m, in \u001b[0;36mEvaluation.train\u001b[1;34m(self)\u001b[0m\n\u001b[0;32m    118\u001b[0m     \u001b[38;5;28mself\u001b[39m\u001b[38;5;241m.\u001b[39mrun_batched_episodes()\n\u001b[0;32m    119\u001b[0m \u001b[38;5;28;01melse\u001b[39;00m:\n\u001b[1;32m--> 120\u001b[0m     \u001b[38;5;28;43mself\u001b[39;49m\u001b[38;5;241;43m.\u001b[39;49m\u001b[43mrun_episodes\u001b[49m\u001b[43m(\u001b[49m\u001b[43m)\u001b[49m\n\u001b[0;32m    121\u001b[0m \u001b[38;5;28mself\u001b[39m\u001b[38;5;241m.\u001b[39mclose()\n",
      "File \u001b[1;32mc:\\Users\\jimmy\\OneDrive\\Documents\\Uni\\3rd Year\\Project\\FinalSimulation\\.venv\\Lib\\site-packages\\rl_agents\\trainer\\evaluation.py:148\u001b[0m, in \u001b[0;36mEvaluation.run_episodes\u001b[1;34m(self)\u001b[0m\n\u001b[0;32m    145\u001b[0m start_time \u001b[38;5;241m=\u001b[39m time\u001b[38;5;241m.\u001b[39mtime()\n\u001b[0;32m    146\u001b[0m \u001b[38;5;28;01mwhile\u001b[39;00m \u001b[38;5;129;01mnot\u001b[39;00m terminal:\n\u001b[0;32m    147\u001b[0m     \u001b[38;5;66;03m# Step until a terminal step is reached\u001b[39;00m\n\u001b[1;32m--> 148\u001b[0m     reward, terminal \u001b[38;5;241m=\u001b[39m \u001b[38;5;28;43mself\u001b[39;49m\u001b[38;5;241;43m.\u001b[39;49m\u001b[43mstep\u001b[49m\u001b[43m(\u001b[49m\u001b[43m)\u001b[49m\n\u001b[0;32m    149\u001b[0m     rewards\u001b[38;5;241m.\u001b[39mappend(reward)\n\u001b[0;32m    151\u001b[0m     \u001b[38;5;66;03m# Catch interruptions\u001b[39;00m\n",
      "File \u001b[1;32mc:\\Users\\jimmy\\OneDrive\\Documents\\Uni\\3rd Year\\Project\\FinalSimulation\\.venv\\Lib\\site-packages\\rl_agents\\trainer\\evaluation.py:174\u001b[0m, in \u001b[0;36mEvaluation.step\u001b[1;34m(self)\u001b[0m\n\u001b[0;32m    172\u001b[0m \u001b[38;5;66;03m# Forward the actions to the environment viewer\u001b[39;00m\n\u001b[0;32m    173\u001b[0m \u001b[38;5;28;01mtry\u001b[39;00m:\n\u001b[1;32m--> 174\u001b[0m     \u001b[38;5;28;43mself\u001b[39;49m\u001b[38;5;241;43m.\u001b[39;49m\u001b[43menv\u001b[49m\u001b[38;5;241;43m.\u001b[39;49m\u001b[43munwrapped\u001b[49m\u001b[38;5;241;43m.\u001b[39;49m\u001b[43mviewer\u001b[49m\u001b[38;5;241;43m.\u001b[39;49m\u001b[43mset_agent_action_sequence\u001b[49m\u001b[43m(\u001b[49m\u001b[43mactions\u001b[49m\u001b[43m)\u001b[49m\n\u001b[0;32m    175\u001b[0m \u001b[38;5;28;01mexcept\u001b[39;00m \u001b[38;5;167;01mAttributeError\u001b[39;00m:\n\u001b[0;32m    176\u001b[0m     \u001b[38;5;28;01mpass\u001b[39;00m\n",
      "File \u001b[1;32mc:\\Users\\jimmy\\OneDrive\\Documents\\Uni\\3rd Year\\Project\\FinalSimulation\\PettingZooSim\\HighwayEnv\\highway_env\\envs\\common\\graphics.py:98\u001b[0m, in \u001b[0;36mEnvViewer.set_agent_action_sequence\u001b[1;34m(self, actions)\u001b[0m\n\u001b[0;32m     96\u001b[0m     actions \u001b[38;5;241m=\u001b[39m [\u001b[38;5;28mself\u001b[39m\u001b[38;5;241m.\u001b[39menv\u001b[38;5;241m.\u001b[39maction_type\u001b[38;5;241m.\u001b[39mactions[a] \u001b[38;5;28;01mfor\u001b[39;00m a \u001b[38;5;129;01min\u001b[39;00m actions]\n\u001b[0;32m     97\u001b[0m \u001b[38;5;28;01melif\u001b[39;00m \u001b[38;5;28misinstance\u001b[39m(\u001b[38;5;28mself\u001b[39m\u001b[38;5;241m.\u001b[39menv\u001b[38;5;241m.\u001b[39maction_type, ContinuousAction):\n\u001b[1;32m---> 98\u001b[0m     actions \u001b[38;5;241m=\u001b[39m \u001b[43m[\u001b[49m\u001b[38;5;28;43mself\u001b[39;49m\u001b[38;5;241;43m.\u001b[39;49m\u001b[43menv\u001b[49m\u001b[38;5;241;43m.\u001b[39;49m\u001b[43maction_type\u001b[49m\u001b[38;5;241;43m.\u001b[39;49m\u001b[43mget_action\u001b[49m\u001b[43m(\u001b[49m\u001b[43ma\u001b[49m\u001b[43m)\u001b[49m\u001b[43m \u001b[49m\u001b[38;5;28;43;01mfor\u001b[39;49;00m\u001b[43m \u001b[49m\u001b[43ma\u001b[49m\u001b[43m \u001b[49m\u001b[38;5;129;43;01min\u001b[39;49;00m\u001b[43m \u001b[49m\u001b[43mactions\u001b[49m\u001b[43m]\u001b[49m\n\u001b[0;32m     99\u001b[0m \u001b[38;5;28;01mif\u001b[39;00m \u001b[38;5;28mlen\u001b[39m(actions) \u001b[38;5;241m>\u001b[39m \u001b[38;5;241m1\u001b[39m:\n\u001b[0;32m    100\u001b[0m     \u001b[38;5;28mself\u001b[39m\u001b[38;5;241m.\u001b[39mvehicle_trajectory \u001b[38;5;241m=\u001b[39m \u001b[38;5;28mself\u001b[39m\u001b[38;5;241m.\u001b[39menv\u001b[38;5;241m.\u001b[39mvehicle\u001b[38;5;241m.\u001b[39mpredict_trajectory(\n\u001b[0;32m    101\u001b[0m         actions,\n\u001b[0;32m    102\u001b[0m         \u001b[38;5;241m1\u001b[39m \u001b[38;5;241m/\u001b[39m \u001b[38;5;28mself\u001b[39m\u001b[38;5;241m.\u001b[39menv\u001b[38;5;241m.\u001b[39mconfig[\u001b[38;5;124m\"\u001b[39m\u001b[38;5;124mpolicy_frequency\u001b[39m\u001b[38;5;124m\"\u001b[39m],\n\u001b[0;32m    103\u001b[0m         \u001b[38;5;241m1\u001b[39m \u001b[38;5;241m/\u001b[39m \u001b[38;5;241m3\u001b[39m \u001b[38;5;241m/\u001b[39m \u001b[38;5;28mself\u001b[39m\u001b[38;5;241m.\u001b[39menv\u001b[38;5;241m.\u001b[39mconfig[\u001b[38;5;124m\"\u001b[39m\u001b[38;5;124mpolicy_frequency\u001b[39m\u001b[38;5;124m\"\u001b[39m],\n\u001b[0;32m    104\u001b[0m         \u001b[38;5;241m1\u001b[39m \u001b[38;5;241m/\u001b[39m \u001b[38;5;28mself\u001b[39m\u001b[38;5;241m.\u001b[39menv\u001b[38;5;241m.\u001b[39mconfig[\u001b[38;5;124m\"\u001b[39m\u001b[38;5;124msimulation_frequency\u001b[39m\u001b[38;5;124m\"\u001b[39m],\n\u001b[0;32m    105\u001b[0m     )\n",
      "File \u001b[1;32mc:\\Users\\jimmy\\OneDrive\\Documents\\Uni\\3rd Year\\Project\\FinalSimulation\\PettingZooSim\\HighwayEnv\\highway_env\\envs\\common\\graphics.py:98\u001b[0m, in \u001b[0;36m<listcomp>\u001b[1;34m(.0)\u001b[0m\n\u001b[0;32m     96\u001b[0m     actions \u001b[38;5;241m=\u001b[39m [\u001b[38;5;28mself\u001b[39m\u001b[38;5;241m.\u001b[39menv\u001b[38;5;241m.\u001b[39maction_type\u001b[38;5;241m.\u001b[39mactions[a] \u001b[38;5;28;01mfor\u001b[39;00m a \u001b[38;5;129;01min\u001b[39;00m actions]\n\u001b[0;32m     97\u001b[0m \u001b[38;5;28;01melif\u001b[39;00m \u001b[38;5;28misinstance\u001b[39m(\u001b[38;5;28mself\u001b[39m\u001b[38;5;241m.\u001b[39menv\u001b[38;5;241m.\u001b[39maction_type, ContinuousAction):\n\u001b[1;32m---> 98\u001b[0m     actions \u001b[38;5;241m=\u001b[39m [\u001b[38;5;28;43mself\u001b[39;49m\u001b[38;5;241;43m.\u001b[39;49m\u001b[43menv\u001b[49m\u001b[38;5;241;43m.\u001b[39;49m\u001b[43maction_type\u001b[49m\u001b[38;5;241;43m.\u001b[39;49m\u001b[43mget_action\u001b[49m\u001b[43m(\u001b[49m\u001b[43ma\u001b[49m\u001b[43m)\u001b[49m \u001b[38;5;28;01mfor\u001b[39;00m a \u001b[38;5;129;01min\u001b[39;00m actions]\n\u001b[0;32m     99\u001b[0m \u001b[38;5;28;01mif\u001b[39;00m \u001b[38;5;28mlen\u001b[39m(actions) \u001b[38;5;241m>\u001b[39m \u001b[38;5;241m1\u001b[39m:\n\u001b[0;32m    100\u001b[0m     \u001b[38;5;28mself\u001b[39m\u001b[38;5;241m.\u001b[39mvehicle_trajectory \u001b[38;5;241m=\u001b[39m \u001b[38;5;28mself\u001b[39m\u001b[38;5;241m.\u001b[39menv\u001b[38;5;241m.\u001b[39mvehicle\u001b[38;5;241m.\u001b[39mpredict_trajectory(\n\u001b[0;32m    101\u001b[0m         actions,\n\u001b[0;32m    102\u001b[0m         \u001b[38;5;241m1\u001b[39m \u001b[38;5;241m/\u001b[39m \u001b[38;5;28mself\u001b[39m\u001b[38;5;241m.\u001b[39menv\u001b[38;5;241m.\u001b[39mconfig[\u001b[38;5;124m\"\u001b[39m\u001b[38;5;124mpolicy_frequency\u001b[39m\u001b[38;5;124m\"\u001b[39m],\n\u001b[0;32m    103\u001b[0m         \u001b[38;5;241m1\u001b[39m \u001b[38;5;241m/\u001b[39m \u001b[38;5;241m3\u001b[39m \u001b[38;5;241m/\u001b[39m \u001b[38;5;28mself\u001b[39m\u001b[38;5;241m.\u001b[39menv\u001b[38;5;241m.\u001b[39mconfig[\u001b[38;5;124m\"\u001b[39m\u001b[38;5;124mpolicy_frequency\u001b[39m\u001b[38;5;124m\"\u001b[39m],\n\u001b[0;32m    104\u001b[0m         \u001b[38;5;241m1\u001b[39m \u001b[38;5;241m/\u001b[39m \u001b[38;5;28mself\u001b[39m\u001b[38;5;241m.\u001b[39menv\u001b[38;5;241m.\u001b[39mconfig[\u001b[38;5;124m\"\u001b[39m\u001b[38;5;124msimulation_frequency\u001b[39m\u001b[38;5;124m\"\u001b[39m],\n\u001b[0;32m    105\u001b[0m     )\n",
      "File \u001b[1;32mc:\\Users\\jimmy\\OneDrive\\Documents\\Uni\\3rd Year\\Project\\FinalSimulation\\PettingZooSim\\HighwayEnv\\highway_env\\envs\\common\\action.py:145\u001b[0m, in \u001b[0;36mContinuousAction.get_action\u001b[1;34m(self, action)\u001b[0m\n\u001b[0;32m    139\u001b[0m     (\n\u001b[0;32m    140\u001b[0m         \u001b[38;5;28mself\u001b[39m\u001b[38;5;241m.\u001b[39mcontrolled_vehicle\u001b[38;5;241m.\u001b[39mMIN_SPEED,\n\u001b[0;32m    141\u001b[0m         \u001b[38;5;28mself\u001b[39m\u001b[38;5;241m.\u001b[39mcontrolled_vehicle\u001b[38;5;241m.\u001b[39mMAX_SPEED,\n\u001b[0;32m    142\u001b[0m     ) \u001b[38;5;241m=\u001b[39m \u001b[38;5;28mself\u001b[39m\u001b[38;5;241m.\u001b[39mspeed_range\n\u001b[0;32m    143\u001b[0m \u001b[38;5;28;01mif\u001b[39;00m \u001b[38;5;28mself\u001b[39m\u001b[38;5;241m.\u001b[39mlongitudinal \u001b[38;5;129;01mand\u001b[39;00m \u001b[38;5;28mself\u001b[39m\u001b[38;5;241m.\u001b[39mlateral:\n\u001b[0;32m    144\u001b[0m     \u001b[38;5;28;01mreturn\u001b[39;00m {\n\u001b[1;32m--> 145\u001b[0m         \u001b[38;5;124m\"\u001b[39m\u001b[38;5;124macceleration\u001b[39m\u001b[38;5;124m\"\u001b[39m: utils\u001b[38;5;241m.\u001b[39mlmap(\u001b[43maction\u001b[49m\u001b[43m[\u001b[49m\u001b[38;5;241;43m0\u001b[39;49m\u001b[43m]\u001b[49m, [\u001b[38;5;241m-\u001b[39m\u001b[38;5;241m1\u001b[39m, \u001b[38;5;241m1\u001b[39m], \u001b[38;5;28mself\u001b[39m\u001b[38;5;241m.\u001b[39macceleration_range),\n\u001b[0;32m    146\u001b[0m         \u001b[38;5;124m\"\u001b[39m\u001b[38;5;124msteering\u001b[39m\u001b[38;5;124m\"\u001b[39m: utils\u001b[38;5;241m.\u001b[39mlmap(action[\u001b[38;5;241m1\u001b[39m], [\u001b[38;5;241m-\u001b[39m\u001b[38;5;241m1\u001b[39m, \u001b[38;5;241m1\u001b[39m], \u001b[38;5;28mself\u001b[39m\u001b[38;5;241m.\u001b[39msteering_range),\n\u001b[0;32m    147\u001b[0m     }\n\u001b[0;32m    148\u001b[0m \u001b[38;5;28;01melif\u001b[39;00m \u001b[38;5;28mself\u001b[39m\u001b[38;5;241m.\u001b[39mlongitudinal:\n\u001b[0;32m    149\u001b[0m     \u001b[38;5;28;01mreturn\u001b[39;00m {\n\u001b[0;32m    150\u001b[0m         \u001b[38;5;124m\"\u001b[39m\u001b[38;5;124macceleration\u001b[39m\u001b[38;5;124m\"\u001b[39m: utils\u001b[38;5;241m.\u001b[39mlmap(action[\u001b[38;5;241m0\u001b[39m], [\u001b[38;5;241m-\u001b[39m\u001b[38;5;241m1\u001b[39m, \u001b[38;5;241m1\u001b[39m], \u001b[38;5;28mself\u001b[39m\u001b[38;5;241m.\u001b[39macceleration_range),\n\u001b[0;32m    151\u001b[0m         \u001b[38;5;124m\"\u001b[39m\u001b[38;5;124msteering\u001b[39m\u001b[38;5;124m\"\u001b[39m: \u001b[38;5;241m0\u001b[39m,\n\u001b[0;32m    152\u001b[0m     }\n",
      "\u001b[1;31mIndexError\u001b[0m: invalid index to scalar variable."
     ]
    },
    {
     "ename": "",
     "evalue": "",
     "output_type": "error",
     "traceback": [
      "\u001b[1;31mThe Kernel crashed while executing code in the current cell or a previous cell. \n",
      "\u001b[1;31mPlease review the code in the cell(s) to identify a possible cause of the failure. \n",
      "\u001b[1;31mClick <a href='https://aka.ms/vscodeJupyterKernelCrash'>here</a> for more info. \n",
      "\u001b[1;31mView Jupyter <a href='command:jupyter.viewOutput'>log</a> for further details."
     ]
    }
   ],
   "source": [
    "#@title Run the learned policy for a few episodes.\n",
    "env = load_environment(env_config)\n",
    "env.config[\"offscreen_rendering\"] = False\n",
    "agent = load_agent(agent_config, env)\n",
    "evaluation = Evaluation(env, agent, num_episodes=100)\n",
    "evaluation.train()\n",
    "show_videos(evaluation.run_directory)"
   ]
  }
 ],
 "metadata": {
  "kernelspec": {
   "display_name": ".venv",
   "language": "python",
   "name": "python3"
  },
  "language_info": {
   "codemirror_mode": {
    "name": "ipython",
    "version": 3
   },
   "file_extension": ".py",
   "mimetype": "text/x-python",
   "name": "python",
   "nbconvert_exporter": "python",
   "pygments_lexer": "ipython3",
   "version": "3.11.4"
  }
 },
 "nbformat": 4,
 "nbformat_minor": 2
}
